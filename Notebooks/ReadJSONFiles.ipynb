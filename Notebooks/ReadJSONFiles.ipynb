{
 "cells": [
  {
   "cell_type": "markdown",
   "id": "4e5a7ddd-924d-47f1-b9e9-5f916b44d016",
   "metadata": {},
   "source": [
    "# The Task\n",
    "\n",
    "We have provided you with two JSON files that contain information about Assets, both of which should contain an Asset's \"Name\", \"Model\", and \"IP Address\" but different naming conventions and formats:\n",
    "\n",
    "* **Name (Represented by 'name', 'name_snmp', 'asset-name')**\n",
    "* **Model (Represented by 'model', 'asset-model')**\n",
    "* **IP Address (Represented by 'ip_address', 'ipv4', 'ip-address')**\n",
    "\n",
    "\n",
    "In this repository you can find two sample data files:\n",
    "\n",
    "```\n",
    "assets_1.json.\n",
    "assets_2.json.\n",
    "```\n",
    "\n",
    "## Challenge Requirements\n",
    "Create a web appication. This must be able to do the following steps:\n",
    "\n",
    "* Create a webpage that displays a table with the assets \"Name, IP Address, Model\" based on the contents in assets_1.json. and assets_2.json.\n",
    "* The user should be presented an input field of free text and a submit button that will perform a matching with the assets' data fields in the above two json files based on the \"Name\", \"Model\" or \"IP Address\"\n",
    "* The result of the submit button should display all three fields of the matched asset or \"No Asset Found\" in case it has failed to match anything\n",
    "\n",
    "\n",
    "The system should be able to support:\n",
    "\n",
    "* Larger sets of data (eg 10k+ assets)\n",
    "* Different data formats - assets_1 and assets_2\n",
    "* Asset 'Name', 'IP Address' and 'Model' Based matching\n",
    "* If more than a single match is present it should match the first"
   ]
  },
  {
   "cell_type": "code",
   "execution_count": 130,
   "id": "39e6ba8b-d3b0-4461-8909-51d8356eec83",
   "metadata": {},
   "outputs": [],
   "source": [
    "# Example Queries\n",
    "\n",
    "USER_INPUTS = (\n",
    "    {\n",
    "        \"test_category\": \"Alias Key\",\n",
    "        \"user_input\": (\"ipv4\", \"192.168.77.2\"),\n",
    "        \"response\": {\n",
    "            \"id\": 11,\n",
    "            \"asset-name\": \"Another Test Device\",\n",
    "            \"asset-model\": \"Some model\",\n",
    "            \"mac-address\": \"AA:BB:CC:DD:EE:02\",\n",
    "            \"ip-address\": \"192.168.77.2\"\n",
    "        }\n",
    "    },\n",
    "    {\n",
    "        \"test_category\": \"Real Key\",\n",
    "        \"user_input\": (\"asset-name\", \"Netgear Access Point\"),\n",
    "        \"response\": {\n",
    "            \"id\": 16,\n",
    "            \"asset-name\": \"Netgear Access Point\",\n",
    "            \"asset-model\": \"WAX620\",\n",
    "            \"mac-address\": \"AA:BB:CC:DD:EE:07\",\n",
    "            \"ip-address\": \"192.168.77.7\"\n",
    "        },       \n",
    "    },\n",
    "    {\n",
    "        \"test_category\": \"Alias Key\",\n",
    "        \"user_input\": (\"name\", \"Netgear Access Point\"),\n",
    "        \"response\": {\n",
    "            \"id\": 16,\n",
    "            \"asset-name\": \"Netgear Access Point\",\n",
    "            \"asset-model\": \"WAX620\",\n",
    "            \"mac-address\": \"AA:BB:CC:DD:EE:07\",\n",
    "            \"ip-address\": \"192.168.77.7\"\n",
    "        },       \n",
    "    },\n",
    "    {\n",
    "        \"test_category\": \"Real Key\",\n",
    "        \"user_input\": (\"ip-address\", \"192.168.77.7\"),\n",
    "        \"response\": {\n",
    "            \"id\": 16,\n",
    "            \"asset-name\": \"Netgear Access Point\",\n",
    "            \"asset-model\": \"WAX620\",\n",
    "            \"mac-address\": \"AA:BB:CC:DD:EE:07\",\n",
    "            \"ip-address\": \"192.168.77.7\"\n",
    "        },       \n",
    "    },\n",
    "    {\n",
    "        \"test_category\": \"Alias Key\",\n",
    "        \"user_input\": (\"ip_address\", \"192.168.77.7\"),\n",
    "        \"response\": {\n",
    "            \"id\": 16,\n",
    "            \"asset-name\": \"Netgear Access Point\",\n",
    "            \"asset-model\": \"WAX620\",\n",
    "            \"mac-address\": \"AA:BB:CC:DD:EE:07\",\n",
    "            \"ip-address\": \"192.168.77.7\"\n",
    "        },       \n",
    "    },\n",
    "    {\n",
    "        \"test_category\": \"Alias Key\",\n",
    "        \"user_input\": (\"ipv4\", \"192.168.77.7\"),\n",
    "        \"response\": {\n",
    "            \"id\": 16,\n",
    "            \"asset-name\": \"Netgear Access Point\",\n",
    "            \"asset-model\": \"WAX620\",\n",
    "            \"mac-address\": \"AA:BB:CC:DD:EE:07\",\n",
    "            \"ip-address\": \"192.168.77.7\"\n",
    "        },       \n",
    "    },\n",
    "    {\n",
    "        \"test_category\": \"Alias Key\",\n",
    "        \"user_input\": (\"name\", \"Another Test Device\"),\n",
    "        \"response\": {\n",
    "            \"id\": 11,\n",
    "            \"asset-name\": \"Another Test Device\",\n",
    "            \"asset-model\": \"Some model\",\n",
    "            \"mac-address\": \"AA:BB:CC:DD:EE:02\",\n",
    "            \"ip-address\": \"192.168.77.2\"\n",
    "        },     \n",
    "    },\n",
    ")"
   ]
  },
  {
   "cell_type": "markdown",
   "id": "d47a4287-28ae-4e22-b504-e412c48c338b",
   "metadata": {},
   "source": [
    "# Step 1\n",
    "\n",
    "1. Read-in files and keep in memory\n",
    "2. Upon request, match through the normalized dataset, given the match mapping as per task description\n",
    "\n",
    "* name = (\"name\", \"name_snmp\", \"asset_name\")\n",
    "* model = (\"model\", \"asset-model\")\n",
    "* ip_address = (\"ip_address\", \"ip-address\", \"ipv4\")\n"
   ]
  },
  {
   "cell_type": "code",
   "execution_count": 43,
   "id": "1a97d0f7-b170-4819-8c15-433e3d55ad5d",
   "metadata": {},
   "outputs": [
    {
     "data": {
      "text/plain": [
       "('ip_address', 'ip-address', 'ipv4')"
      ]
     },
     "execution_count": 43,
     "metadata": {},
     "output_type": "execute_result"
    }
   ],
   "source": [
    "match_to_mapping(\"ip-address\")"
   ]
  },
  {
   "cell_type": "code",
   "execution_count": 179,
   "id": "1db37dc9-ab1f-427d-9bcc-e3fd0d0cb5ac",
   "metadata": {},
   "outputs": [],
   "source": [
    "# Step 1: Read-In data\n",
    "with open(\"../assets_1.json\", 'r') as fid:\n",
    "    ASSETS_1 = json.load(fid)\n",
    "\n",
    "with open(\"../assets_2.json\", 'r') as fid:\n",
    "    ASSETS_2 = json.load(fid)\n"
   ]
  },
  {
   "cell_type": "code",
   "execution_count": 217,
   "id": "0849917a-f381-417f-a64b-4c8fd54ac859",
   "metadata": {},
   "outputs": [],
   "source": [
    "\n",
    "NAME_MAP = (\"name\", \"name_snmp\", \"asset-name\")\n",
    "MODEL_MAP = (\"model\", \"asset-model\")\n",
    "IP_MAP = (\"ip_address\", \"ip-address\", \"ipv4\")\n",
    "\n",
    "def match_to_mapping(query: str) -> tuple:\n",
    "    result = ()\n",
    "    if \"name\" in query:\n",
    "        return NAME_MAP if query in NAME_MAP else ()\n",
    "    elif \"model\" in query:\n",
    "        return MODEL_MAP if query in MODEL_MAP else ()\n",
    "    elif \"ip\" in query:\n",
    "        return IP_MAP if query in IP_MAP else ()\n",
    "    return result\n",
    "\n",
    "def match_obj(obj, mapping, value) -> dict:\n",
    "\n",
    "    for kmap in mapping:\n",
    "        if kmap in obj and value.lower() == obj[kmap].lower():\n",
    "            return obj\n",
    "    return {}\n",
    "\n",
    "# Step 2: Match user query to object\n",
    "def filter_assets(qkey: str, qval: str) -> Dict:\n",
    "    \"\"\"\n",
    "    \"\"\"\n",
    "    response = {}\n",
    "    mapping = match_to_mapping(qkey)\n",
    "    if not mapping:\n",
    "        return response\n",
    "    \n",
    "    for asset_set in ASSETS:\n",
    "        for asset_obj in asset_set:\n",
    "            response = match_obj(asset_obj, mapping, qval)\n",
    "            if response:\n",
    "                return response\n",
    "    return response"
   ]
  },
  {
   "cell_type": "code",
   "execution_count": 218,
   "id": "18d7497f-9053-427f-90a6-098071c8e68a",
   "metadata": {},
   "outputs": [
    {
     "name": "stdout",
     "output_type": "stream",
     "text": [
      "{'id': 11, 'asset-name': 'Another Test Device', 'asset-model': 'Some model', 'mac-address': 'AA:BB:CC:DD:EE:02', 'ip-address': '192.168.77.2'}\n",
      "{'id': 16, 'asset-name': 'Netgear Access Point', 'asset-model': 'WAX620', 'mac-address': 'AA:BB:CC:DD:EE:07', 'ip-address': '192.168.77.7'}\n",
      "{'id': 16, 'asset-name': 'Netgear Access Point', 'asset-model': 'WAX620', 'mac-address': 'AA:BB:CC:DD:EE:07', 'ip-address': '192.168.77.7'}\n",
      "{'id': 16, 'asset-name': 'Netgear Access Point', 'asset-model': 'WAX620', 'mac-address': 'AA:BB:CC:DD:EE:07', 'ip-address': '192.168.77.7'}\n",
      "{'id': 16, 'asset-name': 'Netgear Access Point', 'asset-model': 'WAX620', 'mac-address': 'AA:BB:CC:DD:EE:07', 'ip-address': '192.168.77.7'}\n",
      "{'id': 16, 'asset-name': 'Netgear Access Point', 'asset-model': 'WAX620', 'mac-address': 'AA:BB:CC:DD:EE:07', 'ip-address': '192.168.77.7'}\n",
      "{'id': 11, 'asset-name': 'Another Test Device', 'asset-model': 'Some model', 'mac-address': 'AA:BB:CC:DD:EE:02', 'ip-address': '192.168.77.2'}\n"
     ]
    }
   ],
   "source": [
    "for u_input in USER_INPUTS:\n",
    "    query, value = u_input[\"user_input\"]\n",
    "    # print(f\"Query: {query}, Value: {value}\")\n",
    "    response = filter_assets(query, value)\n",
    "    print(response)"
   ]
  },
  {
   "cell_type": "markdown",
   "id": "90e066f0-ba14-488d-abc7-4ab908c1be32",
   "metadata": {},
   "source": [
    "# Step 2:\n",
    "\n",
    "Adapt to conform to requirements:\n",
    "\n",
    "* Larger sets of data (eg 10k+ assets)\n",
    "* Different data formats - assets_1 and assets_2\n",
    "* Asset 'Name', 'IP Address' and 'Model' Based matching\n",
    "* If more than a single match is present it should match the first\n",
    "\n",
    "Solution:\n",
    "\n",
    "In order to be able to work with datasets in the order fo 10k+, the read-in from JSON files is seen as the bottleneck.\n",
    "\n",
    "Given that an average object will occupy on the order of ~ 200 Bytes in memory, 10k object will occupy around 2MB in memory, which can be assumed insignificant."
   ]
  },
  {
   "cell_type": "code",
   "execution_count": 219,
   "id": "e61667f9-0818-41c2-af73-891de437a386",
   "metadata": {},
   "outputs": [
    {
     "name": "stdout",
     "output_type": "stream",
     "text": [
      "184\n",
      "272\n"
     ]
    }
   ],
   "source": [
    "import sys\n",
    "\n",
    "small = filter_assets(\"ipv4\", \"192.168.77.2\")\n",
    "large = filter_assets(\"ipv4\", \"192.168.1.4\")\n",
    "\n",
    "print(sys.getsizeof(small))\n",
    "print(sys.getsizeof(large))"
   ]
  },
  {
   "cell_type": "code",
   "execution_count": 152,
   "id": "5d668e71-f532-4dba-abdc-06b6f3a54b02",
   "metadata": {},
   "outputs": [
    {
     "data": {
      "text/plain": [
       "{}"
      ]
     },
     "execution_count": 152,
     "metadata": {},
     "output_type": "execute_result"
    }
   ],
   "source": [
    "large"
   ]
  }
 ],
 "metadata": {
  "kernelspec": {
   "display_name": "Python 3 (ipykernel)",
   "language": "python",
   "name": "python3"
  },
  "language_info": {
   "codemirror_mode": {
    "name": "ipython",
    "version": 3
   },
   "file_extension": ".py",
   "mimetype": "text/x-python",
   "name": "python",
   "nbconvert_exporter": "python",
   "pygments_lexer": "ipython3",
   "version": "3.11.9"
  }
 },
 "nbformat": 4,
 "nbformat_minor": 5
}
