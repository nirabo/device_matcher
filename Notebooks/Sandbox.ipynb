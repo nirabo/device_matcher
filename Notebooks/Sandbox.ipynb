{
 "cells": [
  {
   "cell_type": "code",
   "execution_count": 10,
   "id": "bd180984-b712-4e05-a501-67890a18ca4e",
   "metadata": {},
   "outputs": [],
   "source": [
    "import sqlite3"
   ]
  },
  {
   "cell_type": "code",
   "execution_count": 12,
   "id": "4bda25b0-18ea-4530-a280-b848dbffb4b5",
   "metadata": {},
   "outputs": [],
   "source": [
    "conn = sqlite3.connect('app.db')\n",
    "cursor = conn.cursor()"
   ]
  },
  {
   "cell_type": "code",
   "execution_count": 15,
   "id": "1c7251ae-8d20-4ffd-b997-52c1db7a6f53",
   "metadata": {},
   "outputs": [
    {
     "name": "stdout",
     "output_type": "stream",
     "text": [
      "(1, 'string', 0.0, 0.0)\n"
     ]
    }
   ],
   "source": [
    "cursor.execute(\"SELECT * FROM drivers\")\n",
    "\n",
    "rows = cursor.fetchall()\n",
    "for row in rows:\n",
    "    print(row)"
   ]
  },
  {
   "cell_type": "code",
   "execution_count": 23,
   "id": "c0808686-9edb-4346-beb4-59f9aaa39de8",
   "metadata": {},
   "outputs": [
    {
     "name": "stdout",
     "output_type": "stream",
     "text": [
      "[('employees',), ('expense_tracking_and_reporting',), ('invoicing_and_payment_processing',), ('inventory_management',), ('load_unload_planning_and_execution',), ('warehouse_management',), ('driver_training_and_certification_tracking',), ('vehicle_registration_and_maintenance_records',), ('driver_performance_monitoring',), ('fuel_consumption_and_distance_tracking',), ('vehicle',), ('vehicle_maintenance_and_repair_scheduling',), ('contractors',), ('drivers',), ('dispatchers',), ('transportation',), ('association',)]\n"
     ]
    }
   ],
   "source": [
    "cursor.execute(\"SELECT name FROM sqlite_master WHERE type='table';\")\n",
    "\n",
    "tables = [table for table in cursor.fetchall()]\n",
    "print(tables)"
   ]
  },
  {
   "cell_type": "code",
   "execution_count": 31,
   "id": "7032d9ee-967f-4414-a652-0ab7c46ba497",
   "metadata": {},
   "outputs": [
    {
     "name": "stdout",
     "output_type": "stream",
     "text": [
      "('employees',)\n",
      "(1, '{\"additionalProp1\": \"string\", \"additionalProp2\": \"string\", \"additionalProp3\": \"string\"}', 'string', '2024-06-28 09:00:02.675000', '2024-06-28 09:00:02.675000')\n",
      "('expense_tracking_and_reporting',)\n",
      "('invoicing_and_payment_processing',)\n",
      "('inventory_management',)\n",
      "('load_unload_planning_and_execution',)\n",
      "('warehouse_management',)\n",
      "('driver_training_and_certification_tracking',)\n",
      "('vehicle_registration_and_maintenance_records',)\n",
      "('driver_performance_monitoring',)\n",
      "('fuel_consumption_and_distance_tracking',)\n",
      "('vehicle',)\n",
      "('vehicle_maintenance_and_repair_scheduling',)\n",
      "('contractors',)\n",
      "('drivers',)\n",
      "(1, 'string', 0.0, 0.0)\n",
      "('dispatchers',)\n",
      "('transportation',)\n",
      "('association',)\n"
     ]
    }
   ],
   "source": [
    "for t in tables:\n",
    "    print(t)\n",
    "    curs = cursor.execute(f\"SELECT * FROM {t[0]}\")\n",
    "    for row in curs.fetchall():\n",
    "        print(row)"
   ]
  }
 ],
 "metadata": {
  "kernelspec": {
   "display_name": "Python 3 (ipykernel)",
   "language": "python",
   "name": "python3"
  },
  "language_info": {
   "codemirror_mode": {
    "name": "ipython",
    "version": 3
   },
   "file_extension": ".py",
   "mimetype": "text/x-python",
   "name": "python",
   "nbconvert_exporter": "python",
   "pygments_lexer": "ipython3",
   "version": "3.11.9"
  }
 },
 "nbformat": 4,
 "nbformat_minor": 5
}
