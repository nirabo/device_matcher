{
 "cells": [
  {
   "cell_type": "code",
   "execution_count": 1,
   "id": "bd180984-b712-4e05-a501-67890a18ca4e",
   "metadata": {},
   "outputs": [],
   "source": [
    "import sqlite3"
   ]
  },
  {
   "cell_type": "code",
   "execution_count": 3,
   "id": "4bda25b0-18ea-4530-a280-b848dbffb4b5",
   "metadata": {},
   "outputs": [],
   "source": [
    "conn = sqlite3.connect('../app/app.db')\n",
    "cursor = conn.cursor()"
   ]
  },
  {
   "cell_type": "code",
   "execution_count": 5,
   "id": "1c7251ae-8d20-4ffd-b997-52c1db7a6f53",
   "metadata": {},
   "outputs": [
    {
     "name": "stdout",
     "output_type": "stream",
     "text": [
      "(1, '\"string\"', 'string', 'string')\n",
      "(2, '\"string\"', 'string', 'string')\n"
     ]
    }
   ],
   "source": [
    "cursor.execute(\"SELECT * FROM assets\")\n",
    "\n",
    "rows = cursor.fetchall()\n",
    "for row in rows:\n",
    "    print(row)"
   ]
  },
  {
   "cell_type": "code",
   "execution_count": 6,
   "id": "c0808686-9edb-4346-beb4-59f9aaa39de8",
   "metadata": {},
   "outputs": [
    {
     "name": "stdout",
     "output_type": "stream",
     "text": [
      "[('assets',)]\n"
     ]
    }
   ],
   "source": [
    "cursor.execute(\"SELECT name FROM sqlite_master WHERE type='table';\")\n",
    "\n",
    "tables = [table for table in cursor.fetchall()]\n",
    "print(tables)"
   ]
  },
  {
   "cell_type": "code",
   "execution_count": 7,
   "id": "7032d9ee-967f-4414-a652-0ab7c46ba497",
   "metadata": {},
   "outputs": [
    {
     "name": "stdout",
     "output_type": "stream",
     "text": [
      "('assets',)\n",
      "(1, '\"string\"', 'string', 'string')\n",
      "(2, '\"string\"', 'string', 'string')\n"
     ]
    }
   ],
   "source": [
    "for t in tables:\n",
    "    print(t)\n",
    "    curs = cursor.execute(f\"SELECT * FROM {t[0]}\")\n",
    "    for row in curs.fetchall():\n",
    "        print(row)"
   ]
  },
  {
   "cell_type": "code",
   "execution_count": 1,
   "id": "01a89222-cdc5-4866-b89c-2b16f43844ee",
   "metadata": {},
   "outputs": [],
   "source": [
    "import sys\n",
    "\n",
    "sys.path.append(\"../app/\")"
   ]
  },
  {
   "cell_type": "code",
   "execution_count": 42,
   "id": "cbd2d6b7-540a-48f9-aa1f-63f2cdfaf729",
   "metadata": {},
   "outputs": [],
   "source": [
    "from database import get_db\n",
    "from models.assets_models import AssetModel\n",
    "from schemas.assets_schema import AssetSchema\n",
    "\n",
    "db = get_db()\n",
    "\n",
    "from controllers.assets_controller import get_asset\n",
    "\n",
    "# next(get_db(db, 1))\n",
    "db_asset = next(get_db()).query(AssetModel).filter(AssetModel.id == 1)"
   ]
  },
  {
   "cell_type": "code",
   "execution_count": 41,
   "id": "e1413c43-5b68-4d3b-9fce-58e63b007a78",
   "metadata": {},
   "outputs": [
    {
     "data": {
      "text/plain": [
       "{'properties': {'name': {'title': 'Name', 'type': 'string'},\n",
       "  'ip_address': {'title': 'Ip Address', 'type': 'string'},\n",
       "  'model': {'title': 'Model', 'type': 'string'},\n",
       "  'id': {'title': 'Id', 'type': 'integer'}},\n",
       " 'required': ['name', 'ip_address', 'model', 'id'],\n",
       " 'title': 'AssetSchema',\n",
       " 'type': 'object'}"
      ]
     },
     "execution_count": 41,
     "metadata": {},
     "output_type": "execute_result"
    }
   ],
   "source": [
    "asset = AssetSchema(id=1, name=\"Lyuboslav Petrov\", ip_address=\"192.168.0.190\", model=\"this\")\n",
    "asset.schema()"
   ]
  }
 ],
 "metadata": {
  "kernelspec": {
   "display_name": "Python 3 (ipykernel)",
   "language": "python",
   "name": "python3"
  },
  "language_info": {
   "codemirror_mode": {
    "name": "ipython",
    "version": 3
   },
   "file_extension": ".py",
   "mimetype": "text/x-python",
   "name": "python",
   "nbconvert_exporter": "python",
   "pygments_lexer": "ipython3",
   "version": "3.11.9"
  }
 },
 "nbformat": 4,
 "nbformat_minor": 5
}
